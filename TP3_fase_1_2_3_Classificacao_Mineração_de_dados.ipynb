{
  "nbformat": 4,
  "nbformat_minor": 0,
  "metadata": {
    "colab": {
      "provenance": [],
      "include_colab_link": true
    },
    "kernelspec": {
      "name": "python3",
      "display_name": "Python 3"
    },
    "language_info": {
      "name": "python"
    }
  },
  "cells": [
    {
      "cell_type": "markdown",
      "metadata": {
        "id": "view-in-github",
        "colab_type": "text"
      },
      "source": [
        "<a href=\"https://colab.research.google.com/github/Bmartins25/Mineracao_de_dados_and_LLM_UFMG/blob/main/TP3_fase_1_2_3_Classificacao_Minera%C3%A7%C3%A3o_de_dados.ipynb\" target=\"_parent\"><img src=\"https://colab.research.google.com/assets/colab-badge.svg\" alt=\"Open In Colab\"/></a>"
      ]
    },
    {
      "cell_type": "markdown",
      "source": [
        "# **TP3 FASE 1, 2 e 3 - Foco em Técnicas de Classificação**"
      ],
      "metadata": {
        "id": "MEHzTXlVAUcZ"
      }
    },
    {
      "cell_type": "markdown",
      "source": [
        "# Alunos: **Bruno Bartolomeu e Carlos Large - Mineração de dados UFMG**\n",
        "\n",
        "Nome do Dataset: **Olimpíadas 2024 vs PIB**\n",
        "\n",
        "Origem do Dataset: https://www.kaggle.com/datasets/ernestitus/2024-olympics-medals-vs-gdp\n",
        "\n",
        "Características do Dataset: **10 Colunas | 7 Colunas numéricas e 3 Colunas texto**"
      ],
      "metadata": {
        "id": "ei9fEtsdAmHB"
      }
    },
    {
      "cell_type": "markdown",
      "source": [
        "# **Classificação**\n",
        "\n",
        "Classificação é uma técnica de aprendizado supervisionado que busca categorizar dados em classes pré-definidas com base em variáveis de entrada\n"
      ],
      "metadata": {
        "id": "bURiTtFkNWki"
      }
    },
    {
      "cell_type": "markdown",
      "source": [
        "# **Principais Objetivos da Classificação:**\n",
        "\n",
        "•\tIdentificar padrões em dados: Descobrir características que diferenciam as classes.\n",
        "\n",
        "•\tReduzir incertezas: Oferecer previsões com base em dados históricos.\n",
        "\n",
        "•\tAutomatizar decisões: Usar modelos preditivos para otimizar processos em tempo real.\n",
        "\n",
        "•\tFornecer insights estratégicos: Identificar fatores determinantes para a pertença a uma classe.\n"
      ],
      "metadata": {
        "id": "DL8NojEJNqhC"
      }
    },
    {
      "cell_type": "markdown",
      "source": [
        "# **Em nosso Contexto dos Dados Utilizados:**\n",
        "\n",
        "Utilizaremos técnicas de classificação para analisar o desempenho esportivo e econômico de países com base em dados como:\n",
        "\n",
        "•\tNúmero de medalhas conquistadas\n",
        "\n",
        "•\tPIB e população\n",
        "\n",
        "•\tComparações entre características econômicas e esportivas\n",
        "\n",
        "<br>\n",
        "\n",
        "Exemplo de perguntas respondidas pela classificação:\n",
        "\n",
        "   * Um país pertence à classe de alto desempenho esportivo?\n"
      ],
      "metadata": {
        "id": "HlqIKHFSN-fG"
      }
    },
    {
      "cell_type": "markdown",
      "source": [
        "# **Data Preparation**\n",
        "Objetivo: Garantir que os dados estejam prontos para as análises.\n",
        "\n",
        "\n",
        "* Limpeza de Dados:\n",
        "\n",
        "   * Tratamento de valores nulos (remoção, preenchimento com média/mediana, etc.).\n",
        "   * Remoção de duplicatas.\n",
        "\n",
        "* Transformação de Dados:\n",
        "\n",
        "   * Normalização das variáveis numéricas para evitar escalas desiguais.\n",
        "  * Criação de colunas binárias para medalhas (ex.: país ganhou ou não medalha).\n",
        "\n",
        "* Seleção de Features:\n",
        "\n",
        "   * Identificação de variáveis mais relevantes para prever desempenho (ex.: medalhas totais).\n",
        "   * Eventualmente, eliminar variáveis redundantes (alto grau de correlação)."
      ],
      "metadata": {
        "id": "hVq_Phh4OPMQ"
      }
    },
    {
      "cell_type": "code",
      "source": [
        "import pandas as pd\n",
        "import matplotlib.pyplot as plt\n",
        "from sklearn.decomposition import PCA\n",
        "from sklearn.cluster import KMeans\n",
        "from sklearn.linear_model import LinearRegression\n",
        "from sklearn.ensemble import RandomForestRegressor\n",
        "from sklearn.metrics import mean_squared_error, r2_score\n",
        "from sklearn.model_selection import train_test_split\n",
        "from sklearn.preprocessing import StandardScaler\n",
        "import seaborn as sns\n",
        "from sklearn.cluster import DBSCAN\n",
        "from itertools import combinations\n",
        "from pyspark.sql import SparkSession\n",
        "from pyspark.sql.functions import col\n",
        "from pyspark.ml.classification import RandomForestClassifier as SparkRF, LogisticRegression as SparkLR\n",
        "from pyspark.ml.evaluation import MulticlassClassificationEvaluator\n",
        "from sklearn.cluster import KMeans, DBSCAN\n",
        "from pyspark.ml.stat import Correlation\n",
        "from pyspark.ml.feature import VectorAssembler\n",
        "from sklearn.svm import SVC\n",
        "from sklearn.metrics import classification_report, accuracy_score, ConfusionMatrixDisplay\n"
      ],
      "metadata": {
        "id": "J7f8_GTBBDnO"
      },
      "execution_count": 80,
      "outputs": []
    },
    {
      "cell_type": "code",
      "source": [
        "# Carregar os dados\n",
        "data = pd.read_csv('Olympics_games_2024.csv', delimiter=';')\n",
        "\n"
      ],
      "metadata": {
        "id": "CqLjLiRngdIy"
      },
      "execution_count": 81,
      "outputs": []
    },
    {
      "cell_type": "code",
      "source": [
        "# Criar variável de destino com base no número total de medalhas\n",
        "data['High_Performance'] = (data['total'] > 50).astype(int)\n",
        "\n"
      ],
      "metadata": {
        "id": "d6puqOS9gg7A"
      },
      "execution_count": 82,
      "outputs": []
    },
    {
      "cell_type": "code",
      "source": [
        "# Selecionar variáveis relevantes para o modelo\n",
        "features = ['gdp', 'population', 'gold', 'silver', 'bronze']\n",
        "target = 'High_Performance'\n",
        "\n",
        "\n"
      ],
      "metadata": {
        "id": "mWyeIqUhglZi"
      },
      "execution_count": 83,
      "outputs": []
    },
    {
      "cell_type": "code",
      "source": [
        "# Preparar os dados para o modelo\n",
        "X = data[features]\n",
        "y = data[target]\n",
        "\n"
      ],
      "metadata": {
        "id": "YYYOcUaugpkt"
      },
      "execution_count": 84,
      "outputs": []
    },
    {
      "cell_type": "code",
      "source": [
        "# Dividir os dados em conjuntos de treino e teste\n",
        "X_train, X_test, y_train, y_test = train_test_split(X, y, test_size=0.3, random_state=42)\n",
        "\n"
      ],
      "metadata": {
        "id": "t6_hpVK2gsZ-"
      },
      "execution_count": 85,
      "outputs": []
    },
    {
      "cell_type": "code",
      "source": [
        "# Resultados de classificação para cada algoritmo\n",
        "results = {}\n",
        "\n"
      ],
      "metadata": {
        "id": "d0oGwLDzguuK"
      },
      "execution_count": 86,
      "outputs": []
    },
    {
      "cell_type": "code",
      "source": [
        "# Random Forest Classifier\n",
        "print(\"\\n### Random Forest ###\")\n",
        "rf_model = RandomForestClassifier(random_state=42)\n",
        "rf_model.fit(X_train, y_train)\n",
        "rf_pred = rf_model.predict(X_test)\n",
        "\n"
      ],
      "metadata": {
        "colab": {
          "base_uri": "https://localhost:8080/"
        },
        "id": "f3089zNGilTD",
        "outputId": "f01045ba-3798-49e3-8d36-dc4ed6a3b0d5"
      },
      "execution_count": 87,
      "outputs": [
        {
          "output_type": "stream",
          "name": "stdout",
          "text": [
            "\n",
            "### Random Forest ###\n"
          ]
        }
      ]
    },
    {
      "cell_type": "code",
      "source": [
        "# Matriz de confusão e métricas para Random Forest\n",
        "plt.figure(figsize=(12, 6))\n",
        "ConfusionMatrixDisplay.from_estimator(rf_model, X_test, y_test, cmap='Blues')\n",
        "plt.title(\"Matriz de Confusão - Random Forest\")\n",
        "plt.show()\n",
        "\n"
      ],
      "metadata": {
        "colab": {
          "base_uri": "https://localhost:8080/",
          "height": 489
        },
        "id": "m4yIM7LUinym",
        "outputId": "315c1668-1520-4743-de0a-17f9f3c6ffa6"
      },
      "execution_count": 88,
      "outputs": [
        {
          "output_type": "display_data",
          "data": {
            "text/plain": [
              "<Figure size 1200x600 with 0 Axes>"
            ]
          },
          "metadata": {}
        },
        {
          "output_type": "display_data",
          "data": {
            "text/plain": [
              "<Figure size 640x480 with 2 Axes>"
            ],
            "image/png": "[encoded data removed]"
          },
          "metadata": {}
        }
      ]
    },
    {
      "cell_type": "code",
      "source": [
        "print(\"Métricas para Random Forest:\")\n",
        "print(f\"Acurácia: {accuracy_score(y_test, rf_pred)}\")\n",
        "print(\"Relatório de Classificação:\")\n",
        "print(classification_report(y_test, rf_pred))\n",
        "\n"
      ],
      "metadata": {
        "colab": {
          "base_uri": "https://localhost:8080/"
        },
        "id": "CRbzjoj4ipSa",
        "outputId": "9073067f-a684-4dd2-f5df-5460bbc30db8"
      },
      "execution_count": 89,
      "outputs": [
        {
          "output_type": "stream",
          "name": "stdout",
          "text": [
            "Métricas para Random Forest:\n",
            "Acurácia: 1.0\n",
            "Relatório de Classificação:\n",
            "              precision    recall  f1-score   support\n",
            "\n",
            "           0       1.00      1.00      1.00        25\n",
            "           1       1.00      1.00      1.00         2\n",
            "\n",
            "    accuracy                           1.00        27\n",
            "   macro avg       1.00      1.00      1.00        27\n",
            "weighted avg       1.00      1.00      1.00        27\n",
            "\n"
          ]
        }
      ]
    },
    {
      "cell_type": "code",
      "source": [
        "# Regressão Logística\n",
        "print(\"\\n### Regressão Logística ###\")\n",
        "lr_model = LogisticRegression(random_state=42, max_iter=200)\n",
        "lr_model.fit(X_train, y_train)\n",
        "lr_pred = lr_model.predict(X_test)\n",
        "\n"
      ],
      "metadata": {
        "colab": {
          "base_uri": "https://localhost:8080/"
        },
        "id": "NZdBsw-eiqxA",
        "outputId": "bcdc57c8-96c4-48bd-b96e-5bc970d05a8c"
      },
      "execution_count": 90,
      "outputs": [
        {
          "output_type": "stream",
          "name": "stdout",
          "text": [
            "\n",
            "### Regressão Logística ###\n"
          ]
        }
      ]
    },
    {
      "cell_type": "code",
      "source": [
        "# Matriz de confusão e métricas para Regressão Logística\n",
        "plt.figure(figsize=(12, 6))\n",
        "ConfusionMatrixDisplay.from_estimator(lr_model, X_test, y_test, cmap='Oranges')\n",
        "plt.title(\"Matriz de Confusão - Regressão Logística\")\n",
        "plt.show()\n",
        "\n"
      ],
      "metadata": {
        "colab": {
          "base_uri": "https://localhost:8080/",
          "height": 489
        },
        "id": "bD2fc3rbir7X",
        "outputId": "46f61045-0965-497d-d0bb-d13e98c2abb2"
      },
      "execution_count": 91,
      "outputs": [
        {
          "output_type": "display_data",
          "data": {
            "text/plain": [
              "<Figure size 1200x600 with 0 Axes>"
            ]
          },
          "metadata": {}
        },
        {
          "output_type": "display_data",
          "data": {
            "text/plain": [
              "<Figure size 640x480 with 2 Axes>"
            ],
            "image/png": "[encoded data removed]"
          },
          "metadata": {}
        }
      ]
    },
    {
      "cell_type": "code",
      "source": [
        "print(\"Métricas para Regressão Logística:\")\n",
        "print(f\"Acurácia: {accuracy_score(y_test, lr_pred)}\")\n",
        "print(\"Relatório de Classificação:\")\n",
        "print(classification_report(y_test, lr_pred))\n",
        "\n"
      ],
      "metadata": {
        "colab": {
          "base_uri": "https://localhost:8080/"
        },
        "id": "XH2DI0M2itKm",
        "outputId": "219b24a7-2c9f-4fd1-8641-916aa8c4cf61"
      },
      "execution_count": 92,
      "outputs": [
        {
          "output_type": "stream",
          "name": "stdout",
          "text": [
            "Métricas para Regressão Logística:\n",
            "Acurácia: 1.0\n",
            "Relatório de Classificação:\n",
            "              precision    recall  f1-score   support\n",
            "\n",
            "           0       1.00      1.00      1.00        25\n",
            "           1       1.00      1.00      1.00         2\n",
            "\n",
            "    accuracy                           1.00        27\n",
            "   macro avg       1.00      1.00      1.00        27\n",
            "weighted avg       1.00      1.00      1.00        27\n",
            "\n"
          ]
        }
      ]
    },
    {
      "cell_type": "code",
      "source": [
        "# Suporte a Vetores de Máquina (SVM)\n",
        "print(\"\\n### SVM (Suporte a Vetores de Máquina) ###\")\n",
        "svm_model = SVC(random_state=42)\n",
        "svm_model.fit(X_train, y_train)\n",
        "svm_pred = svm_model.predict(X_test)\n",
        "\n",
        "\n"
      ],
      "metadata": {
        "colab": {
          "base_uri": "https://localhost:8080/"
        },
        "id": "rovzO6xgiukP",
        "outputId": "ae1ef640-5fd1-4b7f-f8dd-75c97e5d75f7"
      },
      "execution_count": 93,
      "outputs": [
        {
          "output_type": "stream",
          "name": "stdout",
          "text": [
            "\n",
            "### SVM (Suporte a Vetores de Máquina) ###\n"
          ]
        }
      ]
    },
    {
      "cell_type": "code",
      "source": [
        "# Matriz de confusão e métricas para SVM\n",
        "plt.figure(figsize=(12, 6))\n",
        "ConfusionMatrixDisplay.from_estimator(svm_model, X_test, y_test, cmap='Greens')\n",
        "plt.title(\"Matriz de Confusão - SVM\")\n",
        "plt.show()\n",
        "\n"
      ],
      "metadata": {
        "colab": {
          "base_uri": "https://localhost:8080/",
          "height": 489
        },
        "id": "-uIXjQcAivuy",
        "outputId": "0149325a-6e11-4f76-b6ec-375e05e5fe3e"
      },
      "execution_count": 94,
      "outputs": [
        {
          "output_type": "display_data",
          "data": {
            "text/plain": [
              "<Figure size 1200x600 with 0 Axes>"
            ]
          },
          "metadata": {}
        },
        {
          "output_type": "display_data",
          "data": {
            "text/plain": [
              "<Figure size 640x480 with 2 Axes>"
            ],
            "image/png": "[encoded data removed]"
          },
          "metadata": {}
        }
      ]
    },
    {
      "cell_type": "code",
      "source": [
        "print(\"Métricas para SVM:\")\n",
        "print(f\"Acurácia: {accuracy_score(y_test, svm_pred)}\")\n",
        "print(\"Relatório de Classificação:\")\n",
        "print(classification_report(y_test, svm_pred))"
      ],
      "metadata": {
        "colab": {
          "base_uri": "https://localhost:8080/"
        },
        "id": "4ahx2tIhixV9",
        "outputId": "992302c6-fb2e-4125-94d6-9a85a1654869"
      },
      "execution_count": 95,
      "outputs": [
        {
          "output_type": "stream",
          "name": "stdout",
          "text": [
            "Métricas para SVM:\n",
            "Acurácia: 0.9259259259259259\n",
            "Relatório de Classificação:\n",
            "              precision    recall  f1-score   support\n",
            "\n",
            "           0       0.93      1.00      0.96        25\n",
            "           1       0.00      0.00      0.00         2\n",
            "\n",
            "    accuracy                           0.93        27\n",
            "   macro avg       0.46      0.50      0.48        27\n",
            "weighted avg       0.86      0.93      0.89        27\n",
            "\n"
          ]
        },
        {
          "output_type": "stream",
          "name": "stderr",
          "text": [
            "/usr/local/lib/python3.10/dist-packages/sklearn/metrics/_classification.py:1531: UndefinedMetricWarning: Precision is ill-defined and being set to 0.0 in labels with no predicted samples. Use `zero_division` parameter to control this behavior.\n",
            "  _warn_prf(average, modifier, f\"{metric.capitalize()} is\", len(result))\n",
            "/usr/local/lib/python3.10/dist-packages/sklearn/metrics/_classification.py:1531: UndefinedMetricWarning: Precision is ill-defined and being set to 0.0 in labels with no predicted samples. Use `zero_division` parameter to control this behavior.\n",
            "  _warn_prf(average, modifier, f\"{metric.capitalize()} is\", len(result))\n",
            "/usr/local/lib/python3.10/dist-packages/sklearn/metrics/_classification.py:1531: UndefinedMetricWarning: Precision is ill-defined and being set to 0.0 in labels with no predicted samples. Use `zero_division` parameter to control this behavior.\n",
            "  _warn_prf(average, modifier, f\"{metric.capitalize()} is\", len(result))\n"
          ]
        }
      ]
    },
    {
      "cell_type": "markdown",
      "source": [
        "# **Comparações das Técnicas de Classificação:**\n",
        "\n"
      ],
      "metadata": {
        "id": "Vf97t3A-Jzia"
      }
    },
    {
      "cell_type": "markdown",
      "source": [
        "# **Random Forest**\n",
        "\n",
        "Desempenho:\n",
        "\n",
        "   * Acurácia: Alta, normalmente próxima de 100% no conjunto de teste.\n",
        "Excelente desempenho tanto para classes majoritárias quanto minoritárias.\n",
        "\n",
        "   * Pontos Fortes:\n",
        "Gerencia bem dados desbalanceados.\n",
        "Mede a importância relativa de cada variável preditora.\n",
        "\n",
        "   * Limitações:\n",
        "Pode ser mais lento em conjuntos de dados muito grandes devido ao número de árvores."
      ],
      "metadata": {
        "id": "02FqYPhjjyn8"
      }
    },
    {
      "cell_type": "markdown",
      "source": [
        "# **Regressão Logística**\n",
        "\n",
        "Desempenho:\n",
        "\n",
        "   * Acurácia: Também alta, com valores similares ao Random Forest.\n",
        "Simples e eficiente em dados lineares ou aproximadamente lineares.\n",
        "\n",
        "   * Pontos Fortes:\n",
        "Fácil interpretação dos coeficientes.\n",
        "Adequado para problemas binários e multiclasses.\n",
        "\n",
        "   * Limitações:\n",
        "Pode ter desempenho limitado em dados não lineares ou de alta dimensionalidade sem transformação prévia."
      ],
      "metadata": {
        "id": "2N1eezPIkEsi"
      }
    },
    {
      "cell_type": "markdown",
      "source": [
        "# **SVM (Suporte a Vetores de Máquina)**\n",
        "\n",
        "Desempenho:\n",
        "\n",
        "   * Acurácia: Ligeiramente menor (por volta de 92.59%).\n",
        "Excelente em alta dimensionalidade, mas sensível a desbalanceamento.\n",
        "\n",
        "   * Pontos Fortes:\n",
        "Eficiente em problemas não lineares com o uso de kernel.\n",
        "Funciona bem com conjuntos de dados menores.\n",
        "\n",
        "   * Limitações:\n",
        "Menor eficiência computacional em grandes volumes de dados.\n",
        "Necessidade de ajustar hiperparâmetros (como kernel e margem)."
      ],
      "metadata": {
        "id": "m9iqY3e5kLfc"
      }
    },
    {
      "cell_type": "markdown",
      "source": [
        "![comparacao_algoritmos.png](data:image/png;base64,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)"
      ],
      "metadata": {
        "id": "HfnruXiukaSY"
      }
    },
    {
      "cell_type": "markdown",
      "source": [
        "# **Conclusão**\n",
        "\n",
        "* Random Forest é a técnica mais robusta neste caso, equilibrando desempenho e flexibilidade.\n",
        "\n",
        "* Regressão Logística é preferida se interpretabilidade for crucial.\n",
        "\n",
        "* SVM pode ser útil em dados não lineares, mas requer maior atenção ao desbalanceamento."
      ],
      "metadata": {
        "id": "D97nsMIYkoNp"
      }
    },
    {
      "cell_type": "markdown",
      "source": [
        "# **Recomendação**\n",
        "\n",
        "De acordo com a base de dados analisa, a recomendação é utilizar o algoritmo Random Forest, devido à sua combinação de alta acurácia, robustez, e capacidade de lidar com a complexidade dos dados.\n",
        "\n"
      ],
      "metadata": {
        "id": "QxwE3WNLlM69"
      }
    },
    {
      "cell_type": "markdown",
      "source": [
        "\n",
        "\n",
        "# **Justificativas**\n",
        "\n",
        "1. Desempenho Superior:\n",
        "\n",
        "  * O Random Forest apresentou acurácia perfeita (100%) no conjunto de testes, mostrando-se altamente eficaz na classificação dos países entre alto e baixo desempenho.\n",
        "\n",
        "2. Robustez com Dados Não Lineares:\n",
        "\n",
        "  * A base de dados inclui variáveis como PIB, população e número de medalhas, que podem ter relações não lineares. O Random Forest lida bem com esses cenários.\n",
        "\n",
        "3. Manejo de Desbalanceamento:\n",
        "\n",
        "   * A classe de \"alto desempenho\" é minoritária, e o Random Forest demonstrou melhor capacidade de prever instâncias de ambas as classes, ao contrário do SVM, que não conseguiu lidar bem com o desbalanceamento.\n",
        "\n",
        "4. Importância das Variáveis:\n",
        "\n",
        "   * O Random Forest permite identificar quais variáveis são mais relevantes para a classificação, o que ajuda a extrair insights úteis, como o impacto das medalhas de ouro, prata e bronze."
      ],
      "metadata": {
        "id": "dKjxAXRflnMR"
      }
    },
    {
      "cell_type": "markdown",
      "source": [
        "# **Cenários Alternativos**\n",
        "\n",
        "* Se a interpretabilidade dos coeficientes for crucial (e.g., para explicar os resultados a um público não técnico), a Regressão Logística também é uma boa escolha, apresentando alta acurácia.\n",
        "\n",
        "* O SVM é menos recomendado neste caso, pois não lidou bem com o desbalanceamento das classes, embora possa ser útil com ajustes nos hiperparâmetros ou técnicas de balanceamento."
      ],
      "metadata": {
        "id": "vlxVxrLUmU-u"
      }
    }
  ]
}