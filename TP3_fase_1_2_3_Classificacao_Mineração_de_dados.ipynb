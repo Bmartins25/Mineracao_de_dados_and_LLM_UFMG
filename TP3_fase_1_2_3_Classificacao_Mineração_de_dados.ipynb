{
  "nbformat": 4,
  "nbformat_minor": 0,
  "metadata": {
    "colab": {
      "provenance": [],
      "include_colab_link": true
    },
    "kernelspec": {
      "name": "python3",
      "display_name": "Python 3"
    },
    "language_info": {
      "name": "python"
    }
  },
  "cells": [
    {
      "cell_type": "markdown",
      "metadata": {
        "id": "view-in-github",
        "colab_type": "text"
      },
      "source": [
        "<a href=\"https://colab.research.google.com/github/Bmartins25/Mineracao_de_dados_and_LLM_UFMG/blob/main/TP3_fase_1_2_3_Classificacao_Minera%C3%A7%C3%A3o_de_dados.ipynb\" target=\"_parent\"><img src=\"https://colab.research.google.com/assets/colab-badge.svg\" alt=\"Open In Colab\"/></a>"
      ]
    },
    {
      "cell_type": "markdown",
      "source": [
        "# **TP3 FASE 1, 2 e 3 - Foco em Técnicas de Classificação**"
      ],
      "metadata": {
        "id": "MEHzTXlVAUcZ"
      }
    },
    {
      "cell_type": "markdown",
      "source": [
        "# Alunos: **Bruno Bartolomeu e Carlos Large - Mineração de dados UFMG**\n",
        "\n",
        "Nome do Dataset: **Olimpíadas 2024 vs PIB**\n",
        "\n",
        "Origem do Dataset: https://www.kaggle.com/datasets/ernestitus/2024-olympics-medals-vs-gdp\n",
        "\n",
        "Características do Dataset: **10 Colunas | 7 Colunas numéricas e 3 Colunas texto**"
      ],
      "metadata": {
        "id": "ei9fEtsdAmHB"
      }
    },
    {
      "cell_type": "markdown",
      "source": [
        "# **Classificação**\n",
        "\n",
        "Classificação é uma técnica de aprendizado supervisionado que busca categorizar dados em classes pré-definidas com base em variáveis de entrada\n"
      ],
      "metadata": {
        "id": "bURiTtFkNWki"
      }
    },
    {
      "cell_type": "markdown",
      "source": [
        "# **Principais Objetivos da Classificação:**\n",
        "\n",
        "•\tIdentificar padrões em dados: Descobrir características que diferenciam as classes.\n",
        "\n",
        "•\tReduzir incertezas: Oferecer previsões com base em dados históricos.\n",
        "\n",
        "•\tAutomatizar decisões: Usar modelos preditivos para otimizar processos em tempo real.\n",
        "\n",
        "•\tFornecer insights estratégicos: Identificar fatores determinantes para a pertença a uma classe.\n"
      ],
      "metadata": {
        "id": "DL8NojEJNqhC"
      }
    },
    {
      "cell_type": "markdown",
      "source": [
        "# **Em nosso Contexto dos Dados Utilizados:**\n",
        "\n",
        "Utilizaremos técnicas de classificação para analisar o desempenho esportivo e econômico de países com base em dados como:\n",
        "\n",
        "•\tNúmero de medalhas conquistadas\n",
        "\n",
        "•\tPIB e população\n",
        "\n",
        "•\tComparações entre características econômicas e esportivas\n",
        "\n",
        "<br>\n",
        "\n",
        "Exemplo de perguntas respondidas pela classificação:\n",
        "\n",
        "   * Um país pertence à classe de alto desempenho esportivo?\n"
      ],
      "metadata": {
        "id": "HlqIKHFSN-fG"
      }
    },
    {
      "cell_type": "markdown",
      "source": [
        "# **Data Preparation**\n",
        "Objetivo: Garantir que os dados estejam prontos para as análises.\n",
        "\n",
        "\n",
        "* Limpeza de Dados:\n",
        "\n",
        "   * Tratamento de valores nulos (remoção, preenchimento com média/mediana, etc.).\n",
        "   * Remoção de duplicatas.\n",
        "\n",
        "* Transformação de Dados:\n",
        "\n",
        "   * Normalização das variáveis numéricas para evitar escalas desiguais.\n",
        "  * Criação de colunas binárias para medalhas (ex.: país ganhou ou não medalha).\n",
        "\n",
        "* Seleção de Features:\n",
        "\n",
        "   * Identificação de variáveis mais relevantes para prever desempenho (ex.: medalhas totais).\n",
        "   * Eventualmente, eliminar variáveis redundantes (alto grau de correlação)."
      ],
      "metadata": {
        "id": "hVq_Phh4OPMQ"
      }
    },
    {
      "cell_type": "code",
      "source": [
        "import pandas as pd\n",
        "import matplotlib.pyplot as plt\n",
        "from sklearn.decomposition import PCA\n",
        "from sklearn.cluster import KMeans\n",
        "from sklearn.linear_model import LinearRegression\n",
        "from sklearn.ensemble import RandomForestRegressor\n",
        "from sklearn.metrics import mean_squared_error, r2_score\n",
        "from sklearn.model_selection import train_test_split\n",
        "from sklearn.preprocessing import StandardScaler\n",
        "import seaborn as sns\n",
        "from sklearn.cluster import DBSCAN\n",
        "from itertools import combinations\n",
        "from pyspark.sql import SparkSession\n",
        "from pyspark.sql.functions import col\n",
        "from sklearn.cluster import KMeans, DBSCAN\n",
        "from pyspark.sql import SparkSession\n",
        "from pyspark.ml.stat import Correlation\n"
      ],
      "metadata": {
        "id": "J7f8_GTBBDnO"
      },
      "execution_count": null,
      "outputs": []
    },
    {
      "cell_type": "code",
      "source": [
        "# Load the dataset\n",
        "data_path = 'Olympics_games_2024.csv'  # Update path as needed\n",
        "data = pd.read_csv(data_path, delimiter=';')\n",
        "\n"
      ],
      "metadata": {
        "id": "jAQM00PLBHIJ"
      },
      "execution_count": null,
      "outputs": []
    },
    {
      "cell_type": "code",
      "source": [
        "# Preparo dos dados (excluindo colunas categóricas)\n",
        "numeric_data = data[['gold', 'silver', 'bronze', 'total', 'gdp', 'population']].copy()"
      ],
      "metadata": {
        "id": "M9bBACGhLpjJ"
      },
      "execution_count": null,
      "outputs": []
    },
    {
      "cell_type": "code",
      "source": [
        "# Remoção de dados nulos - Limpeza dos dados\n",
        "numeric_data.dropna(inplace=True)"
      ],
      "metadata": {
        "id": "bMoBYJETLlt4"
      },
      "execution_count": null,
      "outputs": []
    },
    {
      "cell_type": "code",
      "source": [
        "# Normalização dos dados numéricos\n",
        "scaler = StandardScaler()\n",
        "numeric_data_scaled = scaler.fit_transform(numeric_data)"
      ],
      "metadata": {
        "id": "mM82JDSMLmDY"
      },
      "execution_count": null,
      "outputs": []
    },
    {
      "cell_type": "code",
      "source": [
        "# Selecting numerical features for clustering\n",
        "features = data[['gold', 'silver', 'bronze', 'total', 'gdp', 'population']]\n",
        "scaler = StandardScaler()\n",
        "scaled_features = scaler.fit_transform(features)\n",
        "\n"
      ],
      "metadata": {
        "id": "pFBp61WPBJgQ"
      },
      "execution_count": null,
      "outputs": []
    },
    {
      "cell_type": "code",
      "source": [
        "# Applying clustering methods\n",
        "# K-Means\n",
        "kmeans = KMeans(n_clusters=3, random_state=42)\n",
        "kmeans_labels = kmeans.fit_predict(scaled_features)\n",
        "\n",
        "\n"
      ],
      "metadata": {
        "id": "FyA6bS0NBMho"
      },
      "execution_count": null,
      "outputs": []
    },
    {
      "cell_type": "code",
      "source": [
        "# DBSCAN\n",
        "dbscan = DBSCAN(eps=1.5, min_samples=3)\n",
        "dbscan_labels = dbscan.fit_predict(scaled_features)\n"
      ],
      "metadata": {
        "id": "zZYMKxUYBOTA"
      },
      "execution_count": null,
      "outputs": []
    },
    {
      "cell_type": "code",
      "source": [
        "\n",
        "# Mean Shift\n",
        "mean_shift = MeanShift()\n",
        "mean_shift_labels = mean_shift.fit_predict(scaled_features)\n"
      ],
      "metadata": {
        "id": "VfidZFckBP1-"
      },
      "execution_count": null,
      "outputs": []
    },
    {
      "cell_type": "code",
      "source": [
        "# Visualizing clustering results\n",
        "plt.figure(figsize=(18, 6))"
      ],
      "metadata": {
        "colab": {
          "base_uri": "https://localhost:8080/",
          "height": 54
        },
        "id": "g1t9zKUED5F1",
        "outputId": "3e0a7008-1c9a-4d5e-d93c-da8e214b1f93"
      },
      "execution_count": null,
      "outputs": [
        {
          "output_type": "execute_result",
          "data": {
            "text/plain": [
              "<Figure size 1800x600 with 0 Axes>"
            ]
          },
          "metadata": {},
          "execution_count": 118
        },
        {
          "output_type": "display_data",
          "data": {
            "text/plain": [
              "<Figure size 1800x600 with 0 Axes>"
            ]
          },
          "metadata": {}
        }
      ]
    },
    {
      "cell_type": "code",
      "source": [
        "# Add labels to original data\n",
        "olympics_data['KMeans_Cluster'] = kmeans_labels\n",
        "olympics_data['DBSCAN_Cluster'] = dbscan_labels\n",
        "olympics_data['MeanShift_Cluster'] = mean_shift_labels\n",
        "\n"
      ],
      "metadata": {
        "id": "vb-hK8PxBRWW"
      },
      "execution_count": null,
      "outputs": []
    },
    {
      "cell_type": "code",
      "source": [
        "# K-Means visualization\n",
        "plt.figure(figsize=(8, 6))\n",
        "plt.scatter(scaled_features[:, 0], scaled_features[:, 1], c=kmeans_labels, cmap='viridis', s=100)\n",
        "plt.title('K-Means Clustering')\n",
        "plt.xlabel('Feature 1')\n",
        "plt.ylabel('Feature 2')\n",
        "plt.grid(True)"
      ],
      "metadata": {
        "colab": {
          "base_uri": "https://localhost:8080/",
          "height": 564
        },
        "id": "E5FkmFkYCgHX",
        "outputId": "751724ca-a7e9-4049-d889-fbe40fd257f7"
      },
      "execution_count": null,
      "outputs": [
        {
          "output_type": "display_data",
          "data": {
            "text/plain": [
              "<Figure size 800x600 with 1 Axes>"
            ],
            "image/png": "[encoded data removed]"
          },
          "metadata": {}
        }
      ]
    },
    {
      "cell_type": "code",
      "source": [
        "# DBSCAN visualization\n",
        "plt.figure(figsize=(8, 6))\n",
        "plt.scatter(scaled_features[:, 0], scaled_features[:, 1], c=dbscan_labels, cmap='viridis', s=50)\n",
        "plt.title('DBSCAN Clustering')\n",
        "plt.xlabel('Feature 1')\n",
        "plt.ylabel('Feature 2')\n",
        "plt.grid(True)\n",
        "\n"
      ],
      "metadata": {
        "colab": {
          "base_uri": "https://localhost:8080/",
          "height": 564
        },
        "id": "R9Lae-gXBVZI",
        "outputId": "090f7c4d-6e83-42ac-f99f-1074b79e0d86"
      },
      "execution_count": null,
      "outputs": [
        {
          "output_type": "display_data",
          "data": {
            "text/plain": [
              "<Figure size 800x600 with 1 Axes>"
            ],
            "image/png": "[encoded data removed]"
          },
          "metadata": {}
        }
      ]
    },
    {
      "cell_type": "code",
      "source": [
        "# Mean Shift visualization\n",
        "plt.figure(figsize=(8, 6))\n",
        "plt.scatter(scaled_features[:, 0], scaled_features[:, 1], c=mean_shift_labels, cmap='viridis', s=50)\n",
        "plt.title('Mean Shift Clustering')\n",
        "plt.xlabel('Feature 1')\n",
        "plt.ylabel('Feature 2')\n",
        "plt.grid(True)\n"
      ],
      "metadata": {
        "colab": {
          "base_uri": "https://localhost:8080/",
          "height": 564
        },
        "id": "xldHtGNUBXe3",
        "outputId": "bd21c8e1-8f02-4531-f914-88e258d96705"
      },
      "execution_count": null,
      "outputs": [
        {
          "output_type": "display_data",
          "data": {
            "text/plain": [
              "<Figure size 800x600 with 1 Axes>"
            ],
            "image/png": "[encoded data removed]"
          },
          "metadata": {}
        }
      ]
    },
    {
      "cell_type": "code",
      "source": [
        "# Calculate all metrics for evaluation\n",
        "evaluation_metrics = {\n",
        "    \"Method\": [\"K-Means\", \"DBSCAN\", \"Mean Shift\"],\n",
        "    \"Silhouette Score\": [\n",
        "        silhouette_score(scaled_features, kmeans_labels) if len(set(kmeans_labels)) > 1 else None,\n",
        "        silhouette_score(scaled_features, dbscan_labels) if len(set(dbscan_labels)) > 1 else None,\n",
        "        silhouette_score(scaled_features, mean_shift_labels) if len(set(mean_shift_labels)) > 1 else None,\n",
        "    ],\n",
        "    \"Calinski-Harabasz Index\": [\n",
        "        calinski_harabasz_score(scaled_features, kmeans_labels) if len(set(kmeans_labels)) > 1 else None,\n",
        "        calinski_harabasz_score(scaled_features, dbscan_labels) if len(set(dbscan_labels)) > 1 else None,\n",
        "        calinski_harabasz_score(scaled_features, mean_shift_labels) if len(set(mean_shift_labels)) > 1 else None,\n",
        "    ],\n",
        "    \"Davies-Bouldin Index\": [\n",
        "        davies_bouldin_score(scaled_features, kmeans_labels) if len(set(kmeans_labels)) > 1 else None,\n",
        "        davies_bouldin_score(scaled_features, dbscan_labels) if len(set(dbscan_labels)) > 1 else None,\n",
        "        davies_bouldin_score(scaled_features, mean_shift_labels) if len(set(mean_shift_labels)) > 1 else None,\n",
        "    ],\n",
        "}\n",
        "\n",
        "# Convert metrics to a DataFrame for display\n",
        "evaluation_df = pd.DataFrame(evaluation_metrics)\n",
        "\n"
      ],
      "metadata": {
        "id": "85iHfEJTHGkD"
      },
      "execution_count": null,
      "outputs": []
    },
    {
      "cell_type": "code",
      "source": [
        "# Print the DataFrame\n",
        "print(\"Clustering Evaluation Metrics:\")\n",
        "print(evaluation_df)"
      ],
      "metadata": {
        "colab": {
          "base_uri": "https://localhost:8080/"
        },
        "id": "X6qXeoWKHTJM",
        "outputId": "bd67313b-52f3-44ad-e414-8b8895eaf67e"
      },
      "execution_count": null,
      "outputs": [
        {
          "output_type": "stream",
          "name": "stdout",
          "text": [
            "Clustering Evaluation Metrics:\n",
            "       Method  Silhouette Score  Calinski-Harabasz Index  Davies-Bouldin Index\n",
            "0     K-Means          0.686941                57.074579              0.523692\n",
            "1      DBSCAN          0.736972                68.721748              0.869910\n",
            "2  Mean Shift          0.480004                68.462845              0.578600\n"
          ]
        }
      ]
    },
    {
      "cell_type": "markdown",
      "source": [
        "# **Visualizações:**\n",
        "\n",
        "* K-Means: Clusters esféricos e bem definidos.\n",
        "* DBSCAN: Forma clusters baseados em densidade, com ruídos marcados como outliers.\n",
        "* Mean Shift: Identifica mais clusters, mas com maior variação em densidades.\n",
        "\n"
      ],
      "metadata": {
        "id": "wlLtCDjPJkfJ"
      }
    },
    {
      "cell_type": "markdown",
      "source": [
        "# **Métricas de Avaliação**"
      ],
      "metadata": {
        "id": "ignouJo1Hejz"
      }
    },
    {
      "cell_type": "markdown",
      "source": [
        "Os resultados comparam os métodos K-Means, DBSCAN e Mean Shift usando as métricas:\n",
        "\n",
        "* Silhouette Score: Mede a coesão e separação dos clusters.\n",
        "* Calinski-Harabasz Index: Avalia a dispersão dentro e entre os clusters.\n",
        "* Davies-Bouldin Index: Mede a compacidade e separabilidade dos clusters (valores menores são melhores)."
      ],
      "metadata": {
        "id": "-9qVnwInHdP9"
      }
    },
    {
      "cell_type": "markdown",
      "source": [
        "# **Silhouette Score:**\n",
        "\n",
        "\n",
        "* K-Means: 0.619 - Bom desempenho, com clusters bem definidos.\n",
        "* DBSCAN: 0.737 - Melhor separação, pois identifica densidades e exclui ruído.\n",
        "* Mean Shift: 0.480 - Clusters menos coesos e mais sobrepostos."
      ],
      "metadata": {
        "id": "v6kf5_mxH69U"
      }
    },
    {
      "cell_type": "markdown",
      "source": [
        "# **Calinski-Harabasz Index**\n",
        "\n",
        "* K-Means: 78.14 – Maior valor entre os métodos, indicando uma boa separação entre clusters e baixa dispersão dentro de cada cluster.\n",
        "* DBSCAN: 68.72 – Bom desempenho, mas inferior ao K-Means neste indicador.\n",
        "* Mean Shift: 68.46 – Similar ao DBSCAN, mas levemente inferior."
      ],
      "metadata": {
        "id": "g0TbmxuRJrui"
      }
    },
    {
      "cell_type": "markdown",
      "source": [
        "# **Davies-Bouldin Index**\n",
        "\n",
        "* K-Means: 0.6638 – Valores razoáveis, indicando clusters bem definidos.\n",
        "* DBSCAN: 0.8699 – Apresenta menor compactação e separação relativa aos outros métodos.\n",
        "* Mean Shift: 0.5786 – Melhor valor neste índice, sugerindo clusters mais compactos."
      ],
      "metadata": {
        "id": "Vf97t3A-Jzia"
      }
    },
    {
      "cell_type": "markdown",
      "source": [
        "# **Conclusão 1**"
      ],
      "metadata": {
        "id": "tksKbWpPGxns"
      }
    },
    {
      "cell_type": "markdown",
      "source": [
        "\n",
        "\n",
        "\n",
        "\n",
        "Os agrupamentos foram concluídos e resumos estatísticos de cada cluster foram gerados para os métodos K-Means, DBSCAN e Mean Shift.\n",
        "\n",
        "Os resultados mostram como os países foram agrupados com base em características como medalhas, PIB e população.\n",
        "\n",
        "<br>\n",
        "\n",
        "\n",
        "* Observações:\n",
        "\n",
        "   * **K-Means:** Criou 3 grupos distintos com base em tendências gerais, como países com maior número de medalhas e PIB. Cluster 0 inclui países como EUA e China (altos valores de medalhas e PIB).\n",
        "\n",
        "  *  **DBSCAN:** Identificou 1 cluster significativo, excluindo o ruído.\n",
        "Agrupou países com menor densidade de conquistas e características econômica.\n",
        "\n",
        "  *  **Mean Shift:** Formou 7 clusters, identificando subgrupos mais detalhados.\n",
        "Evidenciou outliers e separações adicionais, como países com PIB extremamente baixo."
      ],
      "metadata": {
        "id": "1WsjH7a0BtJA"
      }
    },
    {
      "cell_type": "markdown",
      "source": [
        "# **Conclusão 2**\n",
        "\n",
        "* **K-Means:** Obteve o maior valor no índice de Calinski-Harabasz, sugerindo boa separação entre clusters.\n",
        "Silhouette Score sólido, indicando coesão e separação balanceadas.\n",
        "Uma escolha equilibrada para dados estruturados.\n",
        "\n",
        "<br>\n",
        "\n",
        "* **DBSCAN:** Apresentou o melhor Silhouette Score, sugerindo clusters bem definidos.\n",
        "Adequado para detectar clusters baseados em densidade e ignorar ruídos, especialmente em dados não lineares.\n",
        "\n",
        "<br>\n",
        "\n",
        "* **Mean Shift:** Apresentou o melhor Davies-Bouldin Index, indicando clusters mais compactos.\n",
        "Apesar disso, o Silhouette Score foi o menor, sugerindo menor eficácia em separar clusters.\n",
        "\n",
        "\n"
      ],
      "metadata": {
        "id": "c1ybYSYoKE4q"
      }
    },
    {
      "cell_type": "markdown",
      "source": [
        "# **Recomendações:**\n",
        "\n",
        "* Se os dados contêm ruídos ou formam clusters irregulares, DBSCAN é a melhor opção.\n",
        "\n",
        "\n",
        "* Para dados estruturados e bem distribuídos, K-Means oferece um desempenho equilibrado.\n",
        "\n",
        "\n",
        "* Mean Shift pode ser útil em casos específicos, mas seu desempenho geral foi inferior."
      ],
      "metadata": {
        "id": "xfJmxxoCK_4I"
      }
    }
  ]
}